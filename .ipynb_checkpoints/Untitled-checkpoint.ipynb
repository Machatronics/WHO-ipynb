{
 "cells": [
  {
   "cell_type": "code",
   "execution_count": 1,
   "id": "4a2ced52",
   "metadata": {},
   "outputs": [],
   "source": [
    "import requests\n",
    "import json\n",
    "import pandas as pd\n",
    "from pathlib import Path\n",
    "import sqlite3 as sql"
   ]
  },
  {
   "cell_type": "code",
   "execution_count": 2,
   "id": "19d2f69b",
   "metadata": {},
   "outputs": [],
   "source": [
    "api_data = requests.get(\"https://ghoapi.azureedge.net/api/WHOSIS_000004\")\n",
    "# Deserialization - the act of converting a string to an object\n",
    "neonatal_mortality_rate = json.loads(api_data.text)\n",
    "#neonatal_mortality_rate = mortality rate in births per 1000 live births.\n",
    "text = neonatal_mortality_rate['value']"
   ]
  },
  {
   "cell_type": "code",
   "execution_count": 3,
   "id": "3960b856",
   "metadata": {},
   "outputs": [],
   "source": [
    "dict_wanted_keys = {\"Id\",\"IndicatorCode\",\"SpatialDim\",\"TimeDim\",\"Dim1\",\"Value\"}\n",
    "l = [{k:v for k, v in i.items() if k in dict_wanted_keys} for i in text]\n",
    "conn = sql.connect('database.db')\n",
    "cur = conn.cursor()\n",
    "# Check if table exists \n",
    "cur.execute(''' SELECT count(name) FROM sqlite_master WHERE type='table' AND name='Data' ''')\n",
    "if cur.fetchone()[0]!=1 :\n",
    "    cur.execute(''' CREATE TABLE IF NOT EXISTS Data (Id number,IndicatorCode text,SpatialDim text,TimeDim number,Dim1 text,Value number)''')\n",
    "    for l_new in l:\n",
    "        columns = ', '.join(\"`\" + str(x).replace('/', '_') + \"`\" for x in l_new.keys())\n",
    "        values = ', '.join(\"'\" + str(x).replace('/', '_') + \"'\" for x in l_new.values())\n",
    "        sqll = \"INSERT INTO %s (%s) VALUES (%s);\" % ('Data',columns,values)\n",
    "        cur.execute(sqll)\n",
    "    conn.commit()\n",
    "conn.commit()\n",
    "conn.close()\n",
    "    "
   ]
  },
  {
   "cell_type": "code",
   "execution_count": 4,
   "id": "199fd80d",
   "metadata": {},
   "outputs": [],
   "source": [
    "with open(\"Country_income_rate.csv\") as f:\n",
    "    data = pd.read_csv (r'Country_income_rate.csv')\n",
    "    df = pd.DataFrame(data)\n",
    "    df.drop(df.columns[[1, 3, 4,5]], axis = 1, inplace = True)\n",
    "    df.dropna(inplace=True,axis=0)\n",
    "    conn = sql.connect('database.db')\n",
    "    cur = conn.cursor()\n",
    "    cur.execute('CREATE TABLE IF NOT EXISTS Country_income_rate (Country_Code text,IncomeGroup text)')\n",
    "    df.to_sql('Country_income_rate', conn, if_exists='replace', index = False)\n",
    "    conn.commit()\n",
    "    conn.close()"
   ]
  },
  {
   "cell_type": "code",
   "execution_count": 8,
   "id": "a94f931e",
   "metadata": {},
   "outputs": [
    {
     "ename": "OperationalError",
     "evalue": "incomplete input",
     "output_type": "error",
     "traceback": [
      "\u001b[1;31m---------------------------------------------------------------------------\u001b[0m",
      "\u001b[1;31mOperationalError\u001b[0m                          Traceback (most recent call last)",
      "\u001b[1;32m<ipython-input-8-df13386adeb7>\u001b[0m in \u001b[0;36m<module>\u001b[1;34m\u001b[0m\n\u001b[0;32m     10\u001b[0m             ON Data.SpatialDim = Country_income_rate.Country_Code''')\n\u001b[0;32m     11\u001b[0m \u001b[0mconn\u001b[0m\u001b[1;33m.\u001b[0m\u001b[0mcommit\u001b[0m\u001b[1;33m(\u001b[0m\u001b[1;33m)\u001b[0m\u001b[1;33m\u001b[0m\u001b[1;33m\u001b[0m\u001b[0m\n\u001b[1;32m---> 12\u001b[1;33m \u001b[0mcur\u001b[0m\u001b[1;33m.\u001b[0m\u001b[0mexecute\u001b[0m\u001b[1;33m(\u001b[0m\u001b[1;34m\"INSERT INTO Country_Group\"\u001b[0m\u001b[1;33m)\u001b[0m\u001b[1;33m\u001b[0m\u001b[1;33m\u001b[0m\u001b[0m\n\u001b[0m\u001b[0;32m     13\u001b[0m \u001b[0mconn\u001b[0m\u001b[1;33m.\u001b[0m\u001b[0mcommit\u001b[0m\u001b[1;33m(\u001b[0m\u001b[1;33m)\u001b[0m\u001b[1;33m\u001b[0m\u001b[1;33m\u001b[0m\u001b[0m\n\u001b[0;32m     14\u001b[0m \u001b[0mconn\u001b[0m\u001b[1;33m.\u001b[0m\u001b[0mclose\u001b[0m\u001b[1;33m(\u001b[0m\u001b[1;33m)\u001b[0m\u001b[1;33m\u001b[0m\u001b[1;33m\u001b[0m\u001b[0m\n",
      "\u001b[1;31mOperationalError\u001b[0m: incomplete input"
     ]
    }
   ],
   "source": [
    "conn = sql.connect('database.db')\n",
    "cur = conn.cursor()\n",
    "cur.execute(''' CREATE TABLE IF NOT EXISTS Country_Group (area text,grouptext)''')\n",
    "conn.commit()\n",
    "cur.execute('''SELECT AVG(Value) FROM Data GROUP BY SpatialDim''')\n",
    "conn.commit()\n",
    "cur.execute('''SELECT Country_Code,SpatialDim \n",
    "            FROM Data \n",
    "            INNER JOIN Country_income_rate \n",
    "            ON Data.SpatialDim = Country_income_rate.Country_Code''')\n",
    "conn.commit()\n",
    "cur.execute(\"INSERT INTO Country_Group VALUES \")\n",
    "conn.commit()\n",
    "conn.close()"
   ]
  },
  {
   "cell_type": "code",
   "execution_count": 19,
   "id": "481557c3",
   "metadata": {},
   "outputs": [
    {
     "ename": "OperationalError",
     "evalue": "near \"INNER\": syntax error",
     "output_type": "error",
     "traceback": [
      "\u001b[1;31m---------------------------------------------------------------------------\u001b[0m",
      "\u001b[1;31mOperationalError\u001b[0m                          Traceback (most recent call last)",
      "\u001b[1;32m<ipython-input-19-3f04edc1a6ba>\u001b[0m in \u001b[0;36m<module>\u001b[1;34m\u001b[0m\n\u001b[0;32m      4\u001b[0m \u001b[0mcur\u001b[0m\u001b[1;33m.\u001b[0m\u001b[0mexecute\u001b[0m\u001b[1;33m(\u001b[0m\u001b[1;34m''' CREATE TABLE IF NOT EXISTS Country_Group (area text,grouptext)'''\u001b[0m\u001b[1;33m)\u001b[0m\u001b[1;33m\u001b[0m\u001b[1;33m\u001b[0m\u001b[0m\n\u001b[0;32m      5\u001b[0m \u001b[0mconn\u001b[0m\u001b[1;33m.\u001b[0m\u001b[0mcommit\u001b[0m\u001b[1;33m(\u001b[0m\u001b[1;33m)\u001b[0m\u001b[1;33m\u001b[0m\u001b[1;33m\u001b[0m\u001b[0m\n\u001b[1;32m----> 6\u001b[1;33m cur.execute(''' INSERT INTO Country_Group(name,age,sex) \n\u001b[0m\u001b[0;32m      7\u001b[0m     \u001b[0mSELECT\u001b[0m \u001b[0mAVG\u001b[0m\u001b[1;33m(\u001b[0m\u001b[0mValue\u001b[0m\u001b[1;33m)\u001b[0m \u001b[0mFROM\u001b[0m \u001b[0mData\u001b[0m\u001b[1;33m\u001b[0m\u001b[1;33m\u001b[0m\u001b[0m\n\u001b[0;32m      8\u001b[0m     \u001b[0mGROUP\u001b[0m \u001b[0mBY\u001b[0m \u001b[0mSpatialDim\u001b[0m\u001b[1;33m\u001b[0m\u001b[1;33m\u001b[0m\u001b[0m\n",
      "\u001b[1;31mOperationalError\u001b[0m: near \"INNER\": syntax error"
     ]
    }
   ],
   "source": [
    "conn = sql.connect('database.db')\n",
    "conn = sql.connect('database.db')\n",
    "cur = conn.cursor()\n",
    "cur.execute(''' CREATE TABLE IF NOT EXISTS Country_Group (area text,grouptext)''')\n",
    "conn.commit()\n",
    "cur.execute(''' INSERT INTO Country_Group(name,age,sex) \n",
    "    SELECT AVG(Value) FROM Data \n",
    "    GROUP BY SpatialDim\n",
    "    INNER JOIN Country_income_rate Country_Code\n",
    "    ON Data.SpatialDim=Country_income_rate.Country_Code ''')"
   ]
  },
  {
   "cell_type": "code",
   "execution_count": null,
   "id": "04eb97c2",
   "metadata": {},
   "outputs": [],
   "source": []
  }
 ],
 "metadata": {
  "kernelspec": {
   "display_name": "Python 3",
   "language": "python",
   "name": "python3"
  },
  "language_info": {
   "codemirror_mode": {
    "name": "ipython",
    "version": 3
   },
   "file_extension": ".py",
   "mimetype": "text/x-python",
   "name": "python",
   "nbconvert_exporter": "python",
   "pygments_lexer": "ipython3",
   "version": "3.9.5"
  }
 },
 "nbformat": 4,
 "nbformat_minor": 5
}
