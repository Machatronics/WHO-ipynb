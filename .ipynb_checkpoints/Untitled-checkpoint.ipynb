{
 "cells": [
  {
   "cell_type": "code",
   "execution_count": 6,
   "id": "4a2ced52",
   "metadata": {},
   "outputs": [],
   "source": [
    "import requests\n",
    "import json\n",
    "import pandas as pd\n",
    "from pathlib import Path\n",
    "import sqlite3 as sql"
   ]
  },
  {
   "cell_type": "code",
   "execution_count": 3,
   "id": "19d2f69b",
   "metadata": {},
   "outputs": [],
   "source": [
    "api_data = requests.get(\"https://ghoapi.azureedge.net/api/WHOSIS_000004\")\n",
    "# Deserialization - the act of converting a string to an object\n",
    "neonatal_mortality_rate = json.loads(api_data.text)\n",
    "#neonatal_mortality_rate = mortality rate in births per 1000 live births.\n",
    "text = neonatal_mortality_rate['value']\n",
    "\n"
   ]
  },
  {
   "cell_type": "code",
   "execution_count": 4,
   "id": "bb2abcd3",
   "metadata": {},
   "outputs": [],
   "source": [
    "dict_wanted_keys = {\"Id\",\"IndicatorCode\",\"SpatialDim\",\"TimeDim\",\"Dim1\",\"Value\"}\n",
    "l = [{k:v for k, v in i.items() if k in dict_wanted_keys} for i in text]\n",
    "conn = sql.connect('database.db')\n",
    "cur = conn.cursor()\n",
    "# Check if table exists \n",
    "cur.execute(''' SELECT count(name) FROM sqlite_master WHERE type='table' AND name='Data' ''')\n",
    "if cur.fetchone()[0]!=1 :\n",
    "    cur.execute(''' CREATE TABLE IF NOT EXISTS Data (Id number,IndicatorCode text,SpatialDim text,TimeDim number,Dim1 text,Value number)''')\n",
    "    for l_new in l:\n",
    "        columns = ', '.join(\"`\" + str(x).replace('/', '_') + \"`\" for x in l_new.keys())\n",
    "        values = ', '.join(\"'\" + str(x).replace('/', '_') + \"'\" for x in l_new.values())\n",
    "        sqll = \"INSERT INTO %s (%s) VALUES (%s);\" % ('Data',columns,values)\n",
    "        cur.execute(sqll)\n",
    "    conn.commit()\n",
    "    cur.execute(''' DELETE FROM table WHERE Id IS NULL ''')\n",
    "conn.commit()\n",
    "conn.close()\n"
   ]
  },
  {
   "cell_type": "code",
   "execution_count": 57,
   "id": "5ba72d6d",
   "metadata": {},
   "outputs": [
    {
     "ename": "OperationalError",
     "evalue": "near \")\": syntax error",
     "output_type": "error",
     "traceback": [
      "\u001b[1;31m---------------------------------------------------------------------------\u001b[0m",
      "\u001b[1;31mOperationalError\u001b[0m                          Traceback (most recent call last)",
      "\u001b[1;32m<ipython-input-57-0e942774e0f7>\u001b[0m in \u001b[0;36m<module>\u001b[1;34m\u001b[0m\n\u001b[0;32m     13\u001b[0m         \u001b[0mvalues\u001b[0m \u001b[1;33m=\u001b[0m \u001b[1;34m', '\u001b[0m\u001b[1;33m.\u001b[0m\u001b[0mjoin\u001b[0m\u001b[1;33m(\u001b[0m\u001b[1;34m\"'\"\u001b[0m \u001b[1;33m+\u001b[0m \u001b[0mstr\u001b[0m\u001b[1;33m(\u001b[0m\u001b[0mx\u001b[0m\u001b[1;33m)\u001b[0m\u001b[1;33m.\u001b[0m\u001b[0mreplace\u001b[0m\u001b[1;33m(\u001b[0m\u001b[1;34m'/'\u001b[0m\u001b[1;33m,\u001b[0m \u001b[1;34m'_'\u001b[0m\u001b[1;33m)\u001b[0m \u001b[1;33m+\u001b[0m \u001b[1;34m\"'\"\u001b[0m \u001b[1;32mfor\u001b[0m \u001b[0mx\u001b[0m \u001b[1;32min\u001b[0m \u001b[0ml_new\u001b[0m\u001b[1;33m.\u001b[0m\u001b[0mvalues\u001b[0m\u001b[1;33m(\u001b[0m\u001b[1;33m)\u001b[0m\u001b[1;33m)\u001b[0m\u001b[1;33m\u001b[0m\u001b[1;33m\u001b[0m\u001b[0m\n\u001b[0;32m     14\u001b[0m         \u001b[0msqll\u001b[0m \u001b[1;33m=\u001b[0m \u001b[1;34m\"INSERT INTO %s (%s) VALUES (%s);\"\u001b[0m \u001b[1;33m%\u001b[0m \u001b[1;33m(\u001b[0m\u001b[1;34m'country_income_data'\u001b[0m\u001b[1;33m,\u001b[0m\u001b[0mcolumns\u001b[0m\u001b[1;33m,\u001b[0m\u001b[0mvalues\u001b[0m\u001b[1;33m)\u001b[0m\u001b[1;33m\u001b[0m\u001b[1;33m\u001b[0m\u001b[0m\n\u001b[1;32m---> 15\u001b[1;33m         \u001b[0mcur\u001b[0m\u001b[1;33m.\u001b[0m\u001b[0mexecute\u001b[0m\u001b[1;33m(\u001b[0m\u001b[0msqll\u001b[0m\u001b[1;33m)\u001b[0m\u001b[1;33m\u001b[0m\u001b[1;33m\u001b[0m\u001b[0m\n\u001b[0m\u001b[0;32m     16\u001b[0m \u001b[1;33m\u001b[0m\u001b[0m\n\u001b[0;32m     17\u001b[0m \u001b[0mconn\u001b[0m\u001b[1;33m.\u001b[0m\u001b[0mcommit\u001b[0m\u001b[1;33m(\u001b[0m\u001b[1;33m)\u001b[0m\u001b[1;33m\u001b[0m\u001b[1;33m\u001b[0m\u001b[0m\n",
      "\u001b[1;31mOperationalError\u001b[0m: near \")\": syntax error"
     ]
    }
   ],
   "source": [
    "#csv file to json ==> sql\n",
    "df = pd.read_csv(r\"Country_income_rate.csv\")\n",
    "new_dict_region = df.to_dict()\n",
    "dict_wanted_keys = {\"Country_Code\",\"IncomeGroup\"}\n",
    "l = [{k:v for k, v in i.items() if k in dict_wanted_keys} for i in text]\n",
    "conn = sql.connect('database.db')\n",
    "cur = conn.cursor()\n",
    "cur.execute(''' SELECT count(name) FROM sqlite_master WHERE type='table' AND name='country_income_data' ''')\n",
    "if cur.fetchone()[0]!=1 :\n",
    "    cur.execute(''' CREATE TABLE IF NOT EXISTS country_income_data (Country_Code text,IncomeGroup text)''')\n",
    "    for l_new in l:\n",
    "        columns = ', '.join(\"`\" + str(x).replace('/', '_') + \"`\" for x in l_new.keys())\n",
    "        values = ', '.join(\"'\" + str(x).replace('/', '_') + \"'\" for x in l_new.values())\n",
    "        sqll = \"INSERT INTO %s (%s) VALUES (%s);\" % ('country_income_data',columns,values)\n",
    "        cur.execute(sqll)\n",
    "\n",
    "conn.commit()\n",
    "conn.close"
   ]
  },
  {
   "cell_type": "code",
   "execution_count": null,
   "id": "8f8380c0",
   "metadata": {},
   "outputs": [],
   "source": []
  }
 ],
 "metadata": {
  "kernelspec": {
   "display_name": "Python 3",
   "language": "python",
   "name": "python3"
  },
  "language_info": {
   "codemirror_mode": {
    "name": "ipython",
    "version": 3
   },
   "file_extension": ".py",
   "mimetype": "text/x-python",
   "name": "python",
   "nbconvert_exporter": "python",
   "pygments_lexer": "ipython3",
   "version": "3.9.5"
  }
 },
 "nbformat": 4,
 "nbformat_minor": 5
}
