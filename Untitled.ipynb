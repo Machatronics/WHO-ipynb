{
 "cells": [
  {
   "cell_type": "code",
   "execution_count": 1,
   "id": "4a2ced52",
   "metadata": {},
   "outputs": [],
   "source": [
    "import requests\n",
    "import json\n",
    "import pandas as pd\n",
    "from pathlib import Path\n",
    "import sqlite3 as sql"
   ]
  },
  {
   "cell_type": "code",
   "execution_count": 2,
   "id": "19d2f69b",
   "metadata": {},
   "outputs": [],
   "source": [
    "api_data = requests.get(\"https://ghoapi.azureedge.net/api/WHOSIS_000004\")\n",
    "# Deserialization - the act of converting a string to an object\n",
    "neonatal_mortality_rate = json.loads(api_data.text)\n",
    "#neonatal_mortality_rate = mortality rate in births per 1000 live births.\n",
    "text = neonatal_mortality_rate['value']"
   ]
  },
  {
   "cell_type": "code",
   "execution_count": 3,
   "id": "3960b856",
   "metadata": {},
   "outputs": [],
   "source": [
    "dict_wanted_keys = {\"Id\",\"IndicatorCode\",\"SpatialDim\",\"TimeDim\",\"Dim1\",\"Value\"}\n",
    "l = [{k:v for k, v in i.items() if k in dict_wanted_keys} for i in text]\n",
    "conn = sql.connect('database.db')\n",
    "cur = conn.cursor()\n",
    "# Check if table exists \n",
    "cur.execute(''' SELECT count(name) FROM sqlite_master WHERE type='table' AND name='Data' ''')\n",
    "if cur.fetchone()[0]!=1 :\n",
    "    cur.execute(''' CREATE TABLE IF NOT EXISTS Data (Id number,IndicatorCode text,SpatialDim text,TimeDim number,Dim1 text,Value number)''')\n",
    "    for l_new in l:\n",
    "        columns = ', '.join(\"`\" + str(x).replace('/', '_') + \"`\" for x in l_new.keys())\n",
    "        values = ', '.join(\"'\" + str(x).replace('/', '_') + \"'\" for x in l_new.values())\n",
    "        sqll = \"INSERT INTO %s (%s) VALUES (%s);\" % ('Data',columns,values)\n",
    "        cur.execute(sqll)\n",
    "    conn.commit()\n",
    "conn.commit()\n",
    "conn.close()   "
   ]
  },
  {
   "cell_type": "code",
   "execution_count": 4,
   "id": "199fd80d",
   "metadata": {},
   "outputs": [],
   "source": [
    "with open(\"Country_income_rate.csv\") as f:\n",
    "    data = pd.read_csv (r'Country_income_rate.csv')\n",
    "    df = pd.DataFrame(data)\n",
    "    df.drop(df.columns[[1, 3, 4,5]], axis = 1, inplace = True)\n",
    "    df.dropna(inplace=True,axis=0)\n",
    "    conn = sql.connect('database.db')\n",
    "    cur = conn.cursor()\n",
    "    cur.execute('CREATE TABLE IF NOT EXISTS Country_income_rate (Country_Code text,IncomeGroup text)')\n",
    "    df.to_sql('Country_income_rate', conn, if_exists='replace', index = False)\n",
    "    conn.commit()\n",
    "    conn.close()"
   ]
  },
  {
   "cell_type": "code",
   "execution_count": 5,
   "id": "481557c3",
   "metadata": {},
   "outputs": [],
   "source": [
    "conn = sql.connect('database.db')\n",
    "conn = sql.connect('database.db')\n",
    "cur = conn.cursor()\n",
    "cur.execute(''' CREATE TABLE IF NOT EXISTS Country_Group(Id number,SpatialDim text,Value number,Country_Code text,IncomeGroup text)''')\n",
    "conn.commit()\n",
    "cur.execute(''' INSERT INTO Country_Group(Id,SpatialDim,Value,Country_Code,IncomeGroup) \n",
    "    SELECT Id,SpatialDim,Value,C.Country_Code,C.IncomeGroup\n",
    "    FROM Data d\n",
    "    INNER JOIN Country_income_rate C \n",
    "    ON C.Country_Code = d.SpatialDim''')\n",
    "conn.commit()\n",
    "conn.close()"
   ]
  },
  {
   "cell_type": "code",
   "execution_count": null,
   "id": "37f97d11",
   "metadata": {},
   "outputs": [],
   "source": []
  }
 ],
 "metadata": {
  "kernelspec": {
   "display_name": "Python 3",
   "language": "python",
   "name": "python3"
  },
  "language_info": {
   "codemirror_mode": {
    "name": "ipython",
    "version": 3
   },
   "file_extension": ".py",
   "mimetype": "text/x-python",
   "name": "python",
   "nbconvert_exporter": "python",
   "pygments_lexer": "ipython3",
   "version": "3.9.5"
  }
 },
 "nbformat": 4,
 "nbformat_minor": 5
}
