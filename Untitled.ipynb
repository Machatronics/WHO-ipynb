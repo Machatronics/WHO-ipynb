{
 "cells": [
  {
   "cell_type": "code",
   "execution_count": 24,
   "id": "4a2ced52",
   "metadata": {},
   "outputs": [],
   "source": [
    "import requests\n",
    "import json\n",
    "import pandas as pd\n",
    "from pathlib import Path\n",
    "import sqlite3 as sql"
   ]
  },
  {
   "cell_type": "code",
   "execution_count": 25,
   "id": "19d2f69b",
   "metadata": {},
   "outputs": [],
   "source": [
    "api_data = requests.get(\"https://ghoapi.azureedge.net/api/WHOSIS_000004\")\n",
    "# Deserialization - the act of converting a string to an object\n",
    "neonatal_mortality_rate = json.loads(api_data.text)\n",
    "#neonatal_mortality_rate = mortality rate in births per 1000 live births.\n",
    "text = neonatal_mortality_rate['value']\n",
    "\n"
   ]
  },
  {
   "cell_type": "code",
   "execution_count": 32,
   "id": "fbcf6f38",
   "metadata": {},
   "outputs": [],
   "source": [
    "dict_wanted_keys = {\"Id\",\"IndicatorCode\",\"SpatialDim\",\"TimeDim\",\"Dim1\",\"Value\"}\n",
    "l = [{k:v for k, v in i.items() if k in dict_wanted_keys} for i in text]\n",
    "conn = sql.connect('database.db')\n",
    "cur = conn.cursor()\n",
    "# Check if table exists \n",
    "cur.execute(''' SELECT count(name) FROM sqlite_master WHERE type='table' AND name='Data' ''')\n",
    "\n",
    "if cur.fetchone()[0]!=1 :\n",
    "    cur.execute(''' CREATE TABLE IF NOT EXISTS Data (Id number,IndicatorCode text,SpatialDim text,TimeDim number,Dim1 text,Value number)''')\n",
    "    for l_new in l:\n",
    "        columns = ', '.join(\"`\" + str(x).replace('/', '_') + \"`\" for x in l_new.keys())\n",
    "        values = ', '.join(\"'\" + str(x).replace('/', '_') + \"'\" for x in l_new.values())\n",
    "        sqll = \"INSERT INTO %s (%s) VALUES (%s);\" % ('Data',columns,values)\n",
    "        cur.execute(sqll)\n",
    "conn.commit()\n",
    "conn.close()\n"
   ]
  },
  {
   "cell_type": "code",
   "execution_count": 10,
   "id": "199fd80d",
   "metadata": {},
   "outputs": [],
   "source": []
  },
  {
   "cell_type": "code",
   "execution_count": 11,
   "id": "5ba72d6d",
   "metadata": {},
   "outputs": [
    {
     "data": {
      "text/html": [
       "<div>\n",
       "<style scoped>\n",
       "    .dataframe tbody tr th:only-of-type {\n",
       "        vertical-align: middle;\n",
       "    }\n",
       "\n",
       "    .dataframe tbody tr th {\n",
       "        vertical-align: top;\n",
       "    }\n",
       "\n",
       "    .dataframe thead th {\n",
       "        text-align: right;\n",
       "    }\n",
       "</style>\n",
       "<table border=\"1\" class=\"dataframe\">\n",
       "  <thead>\n",
       "    <tr style=\"text-align: right;\">\n",
       "      <th></th>\n",
       "      <th>@odata.context</th>\n",
       "      <th>value</th>\n",
       "    </tr>\n",
       "  </thead>\n",
       "  <tbody>\n",
       "    <tr>\n",
       "      <th>0</th>\n",
       "      <td>https://ghoapi.azureedge.net/api/$metadata#WHO...</td>\n",
       "      <td>[{'Id': 19133175, 'IndicatorCode': 'WHOSIS_000...</td>\n",
       "    </tr>\n",
       "  </tbody>\n",
       "</table>\n",
       "</div>"
      ],
      "text/plain": [
       "                                      @odata.context  \\\n",
       "0  https://ghoapi.azureedge.net/api/$metadata#WHO...   \n",
       "\n",
       "                                               value  \n",
       "0  [{'Id': 19133175, 'IndicatorCode': 'WHOSIS_000...  "
      ]
     },
     "execution_count": 11,
     "metadata": {},
     "output_type": "execute_result"
    }
   ],
   "source": []
  },
  {
   "cell_type": "code",
   "execution_count": null,
   "id": "8f8380c0",
   "metadata": {},
   "outputs": [],
   "source": []
  }
 ],
 "metadata": {
  "kernelspec": {
   "display_name": "Python 3",
   "language": "python",
   "name": "python3"
  },
  "language_info": {
   "codemirror_mode": {
    "name": "ipython",
    "version": 3
   },
   "file_extension": ".py",
   "mimetype": "text/x-python",
   "name": "python",
   "nbconvert_exporter": "python",
   "pygments_lexer": "ipython3",
   "version": "3.9.5"
  }
 },
 "nbformat": 4,
 "nbformat_minor": 5
}
